{
  "nbformat": 4,
  "nbformat_minor": 0,
  "metadata": {
    "colab": {
      "provenance": []
    },
    "kernelspec": {
      "name": "python3",
      "display_name": "Python 3"
    },
    "language_info": {
      "name": "python"
    }
  },
  "cells": [
    {
      "cell_type": "code",
      "execution_count": null,
      "metadata": {
        "id": "KSMc5F2d7pef"
      },
      "outputs": [],
      "source": [
        "#leap year if statement"
      ]
    },
    {
      "cell_type": "code",
      "source": [
        "#leap year"
      ],
      "metadata": {
        "id": "_j3_a8Lr9048"
      },
      "execution_count": null,
      "outputs": []
    },
    {
      "cell_type": "code",
      "source": [
        "year = int(input())\n",
        "if (year % 4 == 0 and year % 100 != 0) or year % 400 == 0:\n",
        "    print(\"leap year\")\n",
        "else:\n",
        "    print(\"not leap year\")"
      ],
      "metadata": {
        "colab": {
          "base_uri": "https://localhost:8080/"
        },
        "id": "1_VkKnJM91Yu",
        "outputId": "47b76a00-2ab3-43a6-f9be-b087555da9d7"
      },
      "execution_count": null,
      "outputs": [
        {
          "output_type": "stream",
          "name": "stdout",
          "text": [
            "2024\n",
            "leap year\n"
          ]
        }
      ]
    },
    {
      "cell_type": "code",
      "source": [
        "#income tax if statement"
      ],
      "metadata": {
        "id": "QOyreGUr-aS2"
      },
      "execution_count": null,
      "outputs": []
    },
    {
      "cell_type": "code",
      "source": [
        "salary = int(input())\n",
        "if (salary <= 50000):\n",
        "  print(\"no tax\")\n",
        "elif(salary>50000 and salary<100000):\n",
        "  print(\"10% tax\")\n",
        "else:\n",
        "  print(\"20% tax\")"
      ],
      "metadata": {
        "colab": {
          "base_uri": "https://localhost:8080/"
        },
        "id": "nzn4SOhj-b-m",
        "outputId": "9e348e56-39e1-4c32-c020-1946f6edbcc7"
      },
      "execution_count": null,
      "outputs": [
        {
          "output_type": "stream",
          "name": "stdout",
          "text": [
            "1500000\n",
            "20% tax\n"
          ]
        }
      ]
    },
    {
      "cell_type": "code",
      "source": [
        "# factorial for loop"
      ],
      "metadata": {
        "id": "l3QSyx7gAqq-"
      },
      "execution_count": null,
      "outputs": []
    },
    {
      "cell_type": "code",
      "source": [
        "n = 5\n",
        "factorial = 1\n",
        "for i in range(1, n+1):\n",
        "    factorial *= i\n",
        "print(\"Factorial:\", factorial)"
      ],
      "metadata": {
        "colab": {
          "base_uri": "https://localhost:8080/"
        },
        "id": "4ILQ2Lw9AUMz",
        "outputId": "aa3325ad-133e-41dc-93db-0d58e63f3491"
      },
      "execution_count": 2,
      "outputs": [
        {
          "output_type": "stream",
          "name": "stdout",
          "text": [
            "Factorial: 120\n"
          ]
        }
      ]
    },
    {
      "cell_type": "code",
      "source": [
        "#FOR LOOP"
      ],
      "metadata": {
        "id": "1MptZR47TT1k"
      },
      "execution_count": null,
      "outputs": []
    },
    {
      "cell_type": "code",
      "source": [
        "n=50\n",
        "for i in range (n):\n",
        " print(i)"
      ],
      "metadata": {
        "id": "L5ADDbHsPEBC"
      },
      "execution_count": null,
      "outputs": []
    },
    {
      "cell_type": "code",
      "source": [
        "#fibonnaci while loop"
      ],
      "metadata": {
        "id": "VDIUZ6V2TMZh"
      },
      "execution_count": null,
      "outputs": []
    },
    {
      "cell_type": "code",
      "source": [
        " a, b = 0, 1\n",
        " while b <= 50:\n",
        "    print(b, end=\" \")\n",
        "    a, b = b, a + b"
      ],
      "metadata": {
        "colab": {
          "base_uri": "https://localhost:8080/"
        },
        "id": "fMQQzLoKQ5KV",
        "outputId": "dc63e2e4-2130-4445-854c-8e96b4256999"
      },
      "execution_count": 9,
      "outputs": [
        {
          "output_type": "stream",
          "name": "stdout",
          "text": [
            "1 1 2 3 5 8 13 21 34 "
          ]
        }
      ]
    },
    {
      "cell_type": "code",
      "source": [
        "#Continue Statement"
      ],
      "metadata": {
        "id": "6rJxuw-8TaRb"
      },
      "execution_count": null,
      "outputs": []
    },
    {
      "cell_type": "code",
      "source": [
        "numbers = [-3, 5, -1, 7]\n",
        "for num in (numbers):\n",
        " if num < 0:\n",
        "  continue\n",
        " print(num)"
      ],
      "metadata": {
        "colab": {
          "base_uri": "https://localhost:8080/"
        },
        "id": "0bhkTsFuXZtm",
        "outputId": "a35c9579-1077-4f69-d393-bbf1b60a1285"
      },
      "execution_count": 13,
      "outputs": [
        {
          "output_type": "stream",
          "name": "stdout",
          "text": [
            "5\n",
            "7\n"
          ]
        }
      ]
    },
    {
      "cell_type": "code",
      "source": [
        "#break statement"
      ],
      "metadata": {
        "id": "sXZlZUfBZEgs"
      },
      "execution_count": null,
      "outputs": []
    },
    {
      "cell_type": "code",
      "source": [
        "target = 7\n",
        "while True :\n",
        "  guess = int(input(\"guess the number:\"))\n",
        "  if guess == target :\n",
        "   print (\"correct guess\")\n",
        "   break\n"
      ],
      "metadata": {
        "colab": {
          "base_uri": "https://localhost:8080/"
        },
        "id": "8HE6TdcDZXyi",
        "outputId": "793d32a7-1f9e-429b-dfb5-69b2e7330078"
      },
      "execution_count": 20,
      "outputs": [
        {
          "output_type": "stream",
          "name": "stdout",
          "text": [
            "guess the number:7\n",
            "correct guess\n"
          ]
        }
      ]
    },
    {
      "cell_type": "code",
      "source": [
        "#Create a program that uses a list to store the top 5 scores of a video game and sorts them in descending order"
      ],
      "metadata": {
        "id": "4PHT98qVafia"
      },
      "execution_count": null,
      "outputs": []
    },
    {
      "cell_type": "code",
      "source": [
        "scores = [100,65,97,86,35]\n",
        "scores.sort(reverse=True)\n",
        "print(scores)"
      ],
      "metadata": {
        "colab": {
          "base_uri": "https://localhost:8080/"
        },
        "id": "vTTZMODXajov",
        "outputId": "24a8ab03-75ba-41ec-b17e-116cb07edecf"
      },
      "execution_count": 21,
      "outputs": [
        {
          "output_type": "stream",
          "name": "stdout",
          "text": [
            "[100, 97, 86, 65, 35]\n"
          ]
        }
      ]
    },
    {
      "cell_type": "code",
      "source": [
        "#Question: Write a program to remove duplicates from a list using a set"
      ],
      "metadata": {
        "id": "qIPvPHGMa4b-"
      },
      "execution_count": null,
      "outputs": []
    },
    {
      "cell_type": "code",
      "source": [
        "numbers = [100,45,65,97,86,35,50,75,75,25,86,100,45]\n",
        "unique_numbers = list(set(numbers))\n",
        "print(unique_numbers)"
      ],
      "metadata": {
        "colab": {
          "base_uri": "https://localhost:8080/"
        },
        "id": "SK4xyLCva6sb",
        "outputId": "049e648f-94bc-46c8-ab0b-0b08b9bd084e"
      },
      "execution_count": 22,
      "outputs": [
        {
          "output_type": "stream",
          "name": "stdout",
          "text": [
            "[65, 97, 35, 100, 75, 45, 50, 86, 25]\n"
          ]
        }
      ]
    },
    {
      "cell_type": "code",
      "source": [
        "#Use a dictionary to store employee details (name, age, and department) and retrieve information for a specific employee"
      ],
      "metadata": {
        "id": "fcw-5fBJweeZ"
      },
      "execution_count": null,
      "outputs": []
    },
    {
      "cell_type": "code",
      "source": [
        "employees = [{\"ram\",23,\"sales\"},{\"ravi\",27,\"IT\"},{\"Bavi\",27,\"IT\"}]\n",
        "print(employees)"
      ],
      "metadata": {
        "colab": {
          "base_uri": "https://localhost:8080/"
        },
        "id": "k5UW6ED-whvj",
        "outputId": "191c07ae-d593-4089-9479-29d5751e232f"
      },
      "execution_count": 2,
      "outputs": [
        {
          "output_type": "stream",
          "name": "stdout",
          "text": [
            "[{'sales', 'ram', 23}, {27, 'ravi', 'IT'}, {'Bavi', 27, 'IT'}]\n"
          ]
        }
      ]
    },
    {
      "cell_type": "code",
      "source": [
        "#Create a tuple to store the coordinates of five locations and write a program to calculate the distance between the first and last locations."
      ],
      "metadata": {
        "id": "Qa1Nv82g0v7z"
      },
      "execution_count": null,
      "outputs": []
    },
    {
      "cell_type": "code",
      "source": [
        "from math import sqrt\n",
        "coords = [(0, 0), (3, 4), (5, 12), (8, 15), (10, 20)]\n",
        "distance = sqrt((coords[-1][0] - coords[0][0])**2 + (coords[-1][1] -\n",
        "coords[0][1])**2)\n",
        "print(\"Distance:\", distance)"
      ],
      "metadata": {
        "colab": {
          "base_uri": "https://localhost:8080/"
        },
        "id": "JHeWoIAz05os",
        "outputId": "3f12b08a-0fdf-44fb-ece2-9d2501ddc8fb"
      },
      "execution_count": 3,
      "outputs": [
        {
          "output_type": "stream",
          "name": "stdout",
          "text": [
            "Distance: 22.360679774997898\n"
          ]
        }
      ]
    },
    {
      "cell_type": "code",
      "source": [
        "#Write a user-defined function that checks whether a given string is a palindrome (reads the same backward as forward)"
      ],
      "metadata": {
        "id": "l1ApBxOX-ygs"
      },
      "execution_count": null,
      "outputs": []
    },
    {
      "cell_type": "code",
      "source": [
        "def is_palindrome(s):\n",
        " return s == s[::-1]\n",
        "print(is_palindrome(\"madam\"))"
      ],
      "metadata": {
        "colab": {
          "base_uri": "https://localhost:8080/"
        },
        "id": "xPdGEqX2-1wy",
        "outputId": "4f633ff8-31b4-4ff9-c9f8-a37ea5b8ac3d"
      },
      "execution_count": 7,
      "outputs": [
        {
          "output_type": "stream",
          "name": "stdout",
          "text": [
            "True\n"
          ]
        }
      ]
    },
    {
      "cell_type": "code",
      "source": [
        "#: Create a function that calculates the compound interest given the principal, rate, and time (in years)"
      ],
      "metadata": {
        "id": "a2iZxkSjJDyo"
      },
      "execution_count": null,
      "outputs": []
    },
    {
      "cell_type": "code",
      "source": [
        "def compound_interest(principal, rate, time):\n",
        " return principal * (1 + rate/100)**time\n",
        "print(compound_interest(1000, 5, 2))"
      ],
      "metadata": {
        "colab": {
          "base_uri": "https://localhost:8080/"
        },
        "id": "RS2Z0gJOJFfO",
        "outputId": "2bc42405-d843-4209-80bf-1e5d706add63"
      },
      "execution_count": 8,
      "outputs": [
        {
          "output_type": "stream",
          "name": "stdout",
          "text": [
            "1102.5\n"
          ]
        }
      ]
    },
    {
      "cell_type": "code",
      "source": [
        "#Write a function that takes a list of numbers as input and returns a list of only the even numbers"
      ],
      "metadata": {
        "id": "wZ8-vk2cJXyO"
      },
      "execution_count": null,
      "outputs": []
    },
    {
      "cell_type": "code",
      "source": [
        "def filter_even(numbers):\n",
        " return [num for num in numbers if num % 2 == 0]\n",
        "print(filter_even([1, 2, 3, 4]))"
      ],
      "metadata": {
        "colab": {
          "base_uri": "https://localhost:8080/"
        },
        "id": "rEVGyG6FJeBg",
        "outputId": "61521a73-59de-41a1-b097-598806f5a5f2"
      },
      "execution_count": 10,
      "outputs": [
        {
          "output_type": "stream",
          "name": "stdout",
          "text": [
            "[2, 4]\n"
          ]
        }
      ]
    },
    {
      "cell_type": "code",
      "source": [
        "#write a Python program that defines a function to check if a number is prime."
      ],
      "metadata": {
        "id": "YkU3CdrULJSG"
      },
      "execution_count": null,
      "outputs": []
    },
    {
      "cell_type": "code",
      "source": [
        "def is_prime(n):\n",
        "    if n < 2:\n",
        "        return False\n",
        "    for i in range(2, int(n**0.5) + 1):\n",
        "        if n % i == 0:\n",
        "            return False\n",
        "    return True"
      ],
      "metadata": {
        "id": "TdXHZAlULNGp"
      },
      "execution_count": 12,
      "outputs": []
    },
    {
      "cell_type": "code",
      "source": [
        " #Use a lambda function to sort a list of dictionaries by a key (e.g., sorting a list of students by their grades)"
      ],
      "metadata": {
        "id": "2C6Vl-NVOaGL"
      },
      "execution_count": null,
      "outputs": []
    },
    {
      "cell_type": "code",
      "source": [
        "students = [{\"name\": \"Alice\", \"grade\": 85}, {\"name\": \"Bob\", \"grade\":\n",
        "90}]\n",
        "students.sort(key=lambda x: x[\"grade\"] , reverse = True)\n",
        "print(students)"
      ],
      "metadata": {
        "colab": {
          "base_uri": "https://localhost:8080/"
        },
        "id": "FovFZXJ9OepO",
        "outputId": "00bc3026-262a-4769-977a-ab0cb9aa5f37"
      },
      "execution_count": 14,
      "outputs": [
        {
          "output_type": "stream",
          "name": "stdout",
          "text": [
            "[{'name': 'Bob', 'grade': 90}, {'name': 'Alice', 'grade': 85}]\n"
          ]
        }
      ]
    },
    {
      "cell_type": "code",
      "source": [
        "# Use map() with a lambda function to square all elements in a list"
      ],
      "metadata": {
        "id": "1Fl9GY42PgHo"
      },
      "execution_count": null,
      "outputs": []
    },
    {
      "cell_type": "code",
      "source": [
        "numbers = [1, 2, 3]\n",
        "squared = list(map(lambda x: x**2, numbers))\n",
        "print(squared)"
      ],
      "metadata": {
        "colab": {
          "base_uri": "https://localhost:8080/"
        },
        "id": "lkxFLfpgPkop",
        "outputId": "927be641-2d08-421d-f06e-dadf13a9163c"
      },
      "execution_count": 15,
      "outputs": [
        {
          "output_type": "stream",
          "name": "stdout",
          "text": [
            "[1, 4, 9]\n"
          ]
        }
      ]
    },
    {
      "cell_type": "code",
      "source": [
        "#Use the datetime module to calculate the difference in days between two dates."
      ],
      "metadata": {
        "id": "JtLzI027u_mx"
      },
      "execution_count": null,
      "outputs": []
    },
    {
      "cell_type": "code",
      "source": [
        " from datetime import date\n",
        "d1 = date(2024, 1, 1)\n",
        "d2 = date(2024, 2, 1)\n",
        "print((d2 - d1).days)"
      ],
      "metadata": {
        "colab": {
          "base_uri": "https://localhost:8080/"
        },
        "id": "7bCQmuFCvADs",
        "outputId": "a9b1a55e-3d8b-4f32-fd52-d5e90cdcef47"
      },
      "execution_count": 2,
      "outputs": [
        {
          "output_type": "stream",
          "name": "stdout",
          "text": [
            "31\n"
          ]
        }
      ]
    },
    {
      "cell_type": "code",
      "source": [
        "#Use the os module to list all files and directories in a given directory."
      ],
      "metadata": {
        "id": "ApRhmf0AvUaK"
      },
      "execution_count": null,
      "outputs": []
    },
    {
      "cell_type": "code",
      "source": [
        " import os\n",
        "print(os.listdir(\".\"))"
      ],
      "metadata": {
        "colab": {
          "base_uri": "https://localhost:8080/"
        },
        "id": "J8-Z9wUkvai0",
        "outputId": "21ddf5ff-5a0e-4029-d958-f1dd787cb1c6"
      },
      "execution_count": 3,
      "outputs": [
        {
          "output_type": "stream",
          "name": "stdout",
          "text": [
            "['.config', 'sample_data']\n"
          ]
        }
      ]
    },
    {
      "cell_type": "code",
      "source": [
        "#Generate a list of 10 random integers between 1 and 100 using the random module."
      ],
      "metadata": {
        "id": "mQTXoVJ6vyaY"
      },
      "execution_count": null,
      "outputs": []
    },
    {
      "cell_type": "code",
      "source": [
        "import random\n",
        "print([random.randint(1, 100) for _ in range(10)])"
      ],
      "metadata": {
        "colab": {
          "base_uri": "https://localhost:8080/"
        },
        "id": "GhPXSlJowPyp",
        "outputId": "6d734ecf-4d38-46e2-de65-8cd33ca68c15"
      },
      "execution_count": 8,
      "outputs": [
        {
          "output_type": "stream",
          "name": "stdout",
          "text": [
            "[37, 1, 89, 13, 42, 7, 91, 34, 76, 47]\n"
          ]
        }
      ]
    },
    {
      "cell_type": "code",
      "source": [
        "#Write a Python program that handles a KeyError when accessing a key that doesnʼt exist in a dictionary."
      ],
      "metadata": {
        "id": "XnUQqS4bxJ7m"
      },
      "execution_count": null,
      "outputs": []
    },
    {
      "cell_type": "code",
      "source": [
        "dictionary = {\"a\": 1}\n",
        "try:\n",
        "    print(dictionary[\"b\"])\n",
        "except KeyError:\n",
        "    print(\"Key not found!\")"
      ],
      "metadata": {
        "colab": {
          "base_uri": "https://localhost:8080/"
        },
        "id": "ZdRNhVtcxO_h",
        "outputId": "877089f9-e292-4acd-b48f-cfa11abebd2b"
      },
      "execution_count": 17,
      "outputs": [
        {
          "output_type": "stream",
          "name": "stdout",
          "text": [
            "Key not found!\n"
          ]
        }
      ]
    },
    {
      "cell_type": "code",
      "source": [
        "#Write a program to read a large CSV file and display the first 10 rows, along with the shape of the dataset."
      ],
      "metadata": {
        "id": "qvYKj0yT1KrC"
      },
      "execution_count": null,
      "outputs": []
    },
    {
      "cell_type": "code",
      "source": [
        "import pandas as pd\n",
        "df = pd.read_csv(\"/content/sample_data/california_housing_test.csv\")"
      ],
      "metadata": {
        "id": "N1tL5bSP1Qct"
      },
      "execution_count": 2,
      "outputs": []
    },
    {
      "cell_type": "code",
      "source": [
        "df.shape"
      ],
      "metadata": {
        "colab": {
          "base_uri": "https://localhost:8080/"
        },
        "id": "4_3SChR51lPD",
        "outputId": "db163ab6-0765-4d11-d44d-e7985028932f"
      },
      "execution_count": 3,
      "outputs": [
        {
          "output_type": "execute_result",
          "data": {
            "text/plain": [
              "(3000, 9)"
            ]
          },
          "metadata": {},
          "execution_count": 3
        }
      ]
    },
    {
      "cell_type": "code",
      "source": [
        "df.head(10)"
      ],
      "metadata": {
        "colab": {
          "base_uri": "https://localhost:8080/",
          "height": 363
        },
        "id": "TqnM1W-a1qDT",
        "outputId": "04124962-c7d9-4d96-c96b-c1b1c7aa0804"
      },
      "execution_count": 4,
      "outputs": [
        {
          "output_type": "execute_result",
          "data": {
            "text/plain": [
              "   longitude  latitude  housing_median_age  total_rooms  total_bedrooms  \\\n",
              "0    -122.05     37.37                27.0       3885.0           661.0   \n",
              "1    -118.30     34.26                43.0       1510.0           310.0   \n",
              "2    -117.81     33.78                27.0       3589.0           507.0   \n",
              "3    -118.36     33.82                28.0         67.0            15.0   \n",
              "4    -119.67     36.33                19.0       1241.0           244.0   \n",
              "5    -119.56     36.51                37.0       1018.0           213.0   \n",
              "6    -121.43     38.63                43.0       1009.0           225.0   \n",
              "7    -120.65     35.48                19.0       2310.0           471.0   \n",
              "8    -122.84     38.40                15.0       3080.0           617.0   \n",
              "9    -118.02     34.08                31.0       2402.0           632.0   \n",
              "\n",
              "   population  households  median_income  median_house_value  \n",
              "0      1537.0       606.0         6.6085            344700.0  \n",
              "1       809.0       277.0         3.5990            176500.0  \n",
              "2      1484.0       495.0         5.7934            270500.0  \n",
              "3        49.0        11.0         6.1359            330000.0  \n",
              "4       850.0       237.0         2.9375             81700.0  \n",
              "5       663.0       204.0         1.6635             67000.0  \n",
              "6       604.0       218.0         1.6641             67000.0  \n",
              "7      1341.0       441.0         3.2250            166900.0  \n",
              "8      1446.0       599.0         3.6696            194400.0  \n",
              "9      2830.0       603.0         2.3333            164200.0  "
            ],
            "text/html": [
              "\n",
              "  <div id=\"df-b8b757cf-08c5-4b4e-a6af-0043d532462e\" class=\"colab-df-container\">\n",
              "    <div>\n",
              "<style scoped>\n",
              "    .dataframe tbody tr th:only-of-type {\n",
              "        vertical-align: middle;\n",
              "    }\n",
              "\n",
              "    .dataframe tbody tr th {\n",
              "        vertical-align: top;\n",
              "    }\n",
              "\n",
              "    .dataframe thead th {\n",
              "        text-align: right;\n",
              "    }\n",
              "</style>\n",
              "<table border=\"1\" class=\"dataframe\">\n",
              "  <thead>\n",
              "    <tr style=\"text-align: right;\">\n",
              "      <th></th>\n",
              "      <th>longitude</th>\n",
              "      <th>latitude</th>\n",
              "      <th>housing_median_age</th>\n",
              "      <th>total_rooms</th>\n",
              "      <th>total_bedrooms</th>\n",
              "      <th>population</th>\n",
              "      <th>households</th>\n",
              "      <th>median_income</th>\n",
              "      <th>median_house_value</th>\n",
              "    </tr>\n",
              "  </thead>\n",
              "  <tbody>\n",
              "    <tr>\n",
              "      <th>0</th>\n",
              "      <td>-122.05</td>\n",
              "      <td>37.37</td>\n",
              "      <td>27.0</td>\n",
              "      <td>3885.0</td>\n",
              "      <td>661.0</td>\n",
              "      <td>1537.0</td>\n",
              "      <td>606.0</td>\n",
              "      <td>6.6085</td>\n",
              "      <td>344700.0</td>\n",
              "    </tr>\n",
              "    <tr>\n",
              "      <th>1</th>\n",
              "      <td>-118.30</td>\n",
              "      <td>34.26</td>\n",
              "      <td>43.0</td>\n",
              "      <td>1510.0</td>\n",
              "      <td>310.0</td>\n",
              "      <td>809.0</td>\n",
              "      <td>277.0</td>\n",
              "      <td>3.5990</td>\n",
              "      <td>176500.0</td>\n",
              "    </tr>\n",
              "    <tr>\n",
              "      <th>2</th>\n",
              "      <td>-117.81</td>\n",
              "      <td>33.78</td>\n",
              "      <td>27.0</td>\n",
              "      <td>3589.0</td>\n",
              "      <td>507.0</td>\n",
              "      <td>1484.0</td>\n",
              "      <td>495.0</td>\n",
              "      <td>5.7934</td>\n",
              "      <td>270500.0</td>\n",
              "    </tr>\n",
              "    <tr>\n",
              "      <th>3</th>\n",
              "      <td>-118.36</td>\n",
              "      <td>33.82</td>\n",
              "      <td>28.0</td>\n",
              "      <td>67.0</td>\n",
              "      <td>15.0</td>\n",
              "      <td>49.0</td>\n",
              "      <td>11.0</td>\n",
              "      <td>6.1359</td>\n",
              "      <td>330000.0</td>\n",
              "    </tr>\n",
              "    <tr>\n",
              "      <th>4</th>\n",
              "      <td>-119.67</td>\n",
              "      <td>36.33</td>\n",
              "      <td>19.0</td>\n",
              "      <td>1241.0</td>\n",
              "      <td>244.0</td>\n",
              "      <td>850.0</td>\n",
              "      <td>237.0</td>\n",
              "      <td>2.9375</td>\n",
              "      <td>81700.0</td>\n",
              "    </tr>\n",
              "    <tr>\n",
              "      <th>5</th>\n",
              "      <td>-119.56</td>\n",
              "      <td>36.51</td>\n",
              "      <td>37.0</td>\n",
              "      <td>1018.0</td>\n",
              "      <td>213.0</td>\n",
              "      <td>663.0</td>\n",
              "      <td>204.0</td>\n",
              "      <td>1.6635</td>\n",
              "      <td>67000.0</td>\n",
              "    </tr>\n",
              "    <tr>\n",
              "      <th>6</th>\n",
              "      <td>-121.43</td>\n",
              "      <td>38.63</td>\n",
              "      <td>43.0</td>\n",
              "      <td>1009.0</td>\n",
              "      <td>225.0</td>\n",
              "      <td>604.0</td>\n",
              "      <td>218.0</td>\n",
              "      <td>1.6641</td>\n",
              "      <td>67000.0</td>\n",
              "    </tr>\n",
              "    <tr>\n",
              "      <th>7</th>\n",
              "      <td>-120.65</td>\n",
              "      <td>35.48</td>\n",
              "      <td>19.0</td>\n",
              "      <td>2310.0</td>\n",
              "      <td>471.0</td>\n",
              "      <td>1341.0</td>\n",
              "      <td>441.0</td>\n",
              "      <td>3.2250</td>\n",
              "      <td>166900.0</td>\n",
              "    </tr>\n",
              "    <tr>\n",
              "      <th>8</th>\n",
              "      <td>-122.84</td>\n",
              "      <td>38.40</td>\n",
              "      <td>15.0</td>\n",
              "      <td>3080.0</td>\n",
              "      <td>617.0</td>\n",
              "      <td>1446.0</td>\n",
              "      <td>599.0</td>\n",
              "      <td>3.6696</td>\n",
              "      <td>194400.0</td>\n",
              "    </tr>\n",
              "    <tr>\n",
              "      <th>9</th>\n",
              "      <td>-118.02</td>\n",
              "      <td>34.08</td>\n",
              "      <td>31.0</td>\n",
              "      <td>2402.0</td>\n",
              "      <td>632.0</td>\n",
              "      <td>2830.0</td>\n",
              "      <td>603.0</td>\n",
              "      <td>2.3333</td>\n",
              "      <td>164200.0</td>\n",
              "    </tr>\n",
              "  </tbody>\n",
              "</table>\n",
              "</div>\n",
              "    <div class=\"colab-df-buttons\">\n",
              "\n",
              "  <div class=\"colab-df-container\">\n",
              "    <button class=\"colab-df-convert\" onclick=\"convertToInteractive('df-b8b757cf-08c5-4b4e-a6af-0043d532462e')\"\n",
              "            title=\"Convert this dataframe to an interactive table.\"\n",
              "            style=\"display:none;\">\n",
              "\n",
              "  <svg xmlns=\"http://www.w3.org/2000/svg\" height=\"24px\" viewBox=\"0 -960 960 960\">\n",
              "    <path d=\"M120-120v-720h720v720H120Zm60-500h600v-160H180v160Zm220 220h160v-160H400v160Zm0 220h160v-160H400v160ZM180-400h160v-160H180v160Zm440 0h160v-160H620v160ZM180-180h160v-160H180v160Zm440 0h160v-160H620v160Z\"/>\n",
              "  </svg>\n",
              "    </button>\n",
              "\n",
              "  <style>\n",
              "    .colab-df-container {\n",
              "      display:flex;\n",
              "      gap: 12px;\n",
              "    }\n",
              "\n",
              "    .colab-df-convert {\n",
              "      background-color: #E8F0FE;\n",
              "      border: none;\n",
              "      border-radius: 50%;\n",
              "      cursor: pointer;\n",
              "      display: none;\n",
              "      fill: #1967D2;\n",
              "      height: 32px;\n",
              "      padding: 0 0 0 0;\n",
              "      width: 32px;\n",
              "    }\n",
              "\n",
              "    .colab-df-convert:hover {\n",
              "      background-color: #E2EBFA;\n",
              "      box-shadow: 0px 1px 2px rgba(60, 64, 67, 0.3), 0px 1px 3px 1px rgba(60, 64, 67, 0.15);\n",
              "      fill: #174EA6;\n",
              "    }\n",
              "\n",
              "    .colab-df-buttons div {\n",
              "      margin-bottom: 4px;\n",
              "    }\n",
              "\n",
              "    [theme=dark] .colab-df-convert {\n",
              "      background-color: #3B4455;\n",
              "      fill: #D2E3FC;\n",
              "    }\n",
              "\n",
              "    [theme=dark] .colab-df-convert:hover {\n",
              "      background-color: #434B5C;\n",
              "      box-shadow: 0px 1px 3px 1px rgba(0, 0, 0, 0.15);\n",
              "      filter: drop-shadow(0px 1px 2px rgba(0, 0, 0, 0.3));\n",
              "      fill: #FFFFFF;\n",
              "    }\n",
              "  </style>\n",
              "\n",
              "    <script>\n",
              "      const buttonEl =\n",
              "        document.querySelector('#df-b8b757cf-08c5-4b4e-a6af-0043d532462e button.colab-df-convert');\n",
              "      buttonEl.style.display =\n",
              "        google.colab.kernel.accessAllowed ? 'block' : 'none';\n",
              "\n",
              "      async function convertToInteractive(key) {\n",
              "        const element = document.querySelector('#df-b8b757cf-08c5-4b4e-a6af-0043d532462e');\n",
              "        const dataTable =\n",
              "          await google.colab.kernel.invokeFunction('convertToInteractive',\n",
              "                                                    [key], {});\n",
              "        if (!dataTable) return;\n",
              "\n",
              "        const docLinkHtml = 'Like what you see? Visit the ' +\n",
              "          '<a target=\"_blank\" href=https://colab.research.google.com/notebooks/data_table.ipynb>data table notebook</a>'\n",
              "          + ' to learn more about interactive tables.';\n",
              "        element.innerHTML = '';\n",
              "        dataTable['output_type'] = 'display_data';\n",
              "        await google.colab.output.renderOutput(dataTable, element);\n",
              "        const docLink = document.createElement('div');\n",
              "        docLink.innerHTML = docLinkHtml;\n",
              "        element.appendChild(docLink);\n",
              "      }\n",
              "    </script>\n",
              "  </div>\n",
              "\n",
              "\n",
              "    <div id=\"df-2dd2d835-6135-409c-afa3-8d1207528dcf\">\n",
              "      <button class=\"colab-df-quickchart\" onclick=\"quickchart('df-2dd2d835-6135-409c-afa3-8d1207528dcf')\"\n",
              "                title=\"Suggest charts\"\n",
              "                style=\"display:none;\">\n",
              "\n",
              "<svg xmlns=\"http://www.w3.org/2000/svg\" height=\"24px\"viewBox=\"0 0 24 24\"\n",
              "     width=\"24px\">\n",
              "    <g>\n",
              "        <path d=\"M19 3H5c-1.1 0-2 .9-2 2v14c0 1.1.9 2 2 2h14c1.1 0 2-.9 2-2V5c0-1.1-.9-2-2-2zM9 17H7v-7h2v7zm4 0h-2V7h2v10zm4 0h-2v-4h2v4z\"/>\n",
              "    </g>\n",
              "</svg>\n",
              "      </button>\n",
              "\n",
              "<style>\n",
              "  .colab-df-quickchart {\n",
              "      --bg-color: #E8F0FE;\n",
              "      --fill-color: #1967D2;\n",
              "      --hover-bg-color: #E2EBFA;\n",
              "      --hover-fill-color: #174EA6;\n",
              "      --disabled-fill-color: #AAA;\n",
              "      --disabled-bg-color: #DDD;\n",
              "  }\n",
              "\n",
              "  [theme=dark] .colab-df-quickchart {\n",
              "      --bg-color: #3B4455;\n",
              "      --fill-color: #D2E3FC;\n",
              "      --hover-bg-color: #434B5C;\n",
              "      --hover-fill-color: #FFFFFF;\n",
              "      --disabled-bg-color: #3B4455;\n",
              "      --disabled-fill-color: #666;\n",
              "  }\n",
              "\n",
              "  .colab-df-quickchart {\n",
              "    background-color: var(--bg-color);\n",
              "    border: none;\n",
              "    border-radius: 50%;\n",
              "    cursor: pointer;\n",
              "    display: none;\n",
              "    fill: var(--fill-color);\n",
              "    height: 32px;\n",
              "    padding: 0;\n",
              "    width: 32px;\n",
              "  }\n",
              "\n",
              "  .colab-df-quickchart:hover {\n",
              "    background-color: var(--hover-bg-color);\n",
              "    box-shadow: 0 1px 2px rgba(60, 64, 67, 0.3), 0 1px 3px 1px rgba(60, 64, 67, 0.15);\n",
              "    fill: var(--button-hover-fill-color);\n",
              "  }\n",
              "\n",
              "  .colab-df-quickchart-complete:disabled,\n",
              "  .colab-df-quickchart-complete:disabled:hover {\n",
              "    background-color: var(--disabled-bg-color);\n",
              "    fill: var(--disabled-fill-color);\n",
              "    box-shadow: none;\n",
              "  }\n",
              "\n",
              "  .colab-df-spinner {\n",
              "    border: 2px solid var(--fill-color);\n",
              "    border-color: transparent;\n",
              "    border-bottom-color: var(--fill-color);\n",
              "    animation:\n",
              "      spin 1s steps(1) infinite;\n",
              "  }\n",
              "\n",
              "  @keyframes spin {\n",
              "    0% {\n",
              "      border-color: transparent;\n",
              "      border-bottom-color: var(--fill-color);\n",
              "      border-left-color: var(--fill-color);\n",
              "    }\n",
              "    20% {\n",
              "      border-color: transparent;\n",
              "      border-left-color: var(--fill-color);\n",
              "      border-top-color: var(--fill-color);\n",
              "    }\n",
              "    30% {\n",
              "      border-color: transparent;\n",
              "      border-left-color: var(--fill-color);\n",
              "      border-top-color: var(--fill-color);\n",
              "      border-right-color: var(--fill-color);\n",
              "    }\n",
              "    40% {\n",
              "      border-color: transparent;\n",
              "      border-right-color: var(--fill-color);\n",
              "      border-top-color: var(--fill-color);\n",
              "    }\n",
              "    60% {\n",
              "      border-color: transparent;\n",
              "      border-right-color: var(--fill-color);\n",
              "    }\n",
              "    80% {\n",
              "      border-color: transparent;\n",
              "      border-right-color: var(--fill-color);\n",
              "      border-bottom-color: var(--fill-color);\n",
              "    }\n",
              "    90% {\n",
              "      border-color: transparent;\n",
              "      border-bottom-color: var(--fill-color);\n",
              "    }\n",
              "  }\n",
              "</style>\n",
              "\n",
              "      <script>\n",
              "        async function quickchart(key) {\n",
              "          const quickchartButtonEl =\n",
              "            document.querySelector('#' + key + ' button');\n",
              "          quickchartButtonEl.disabled = true;  // To prevent multiple clicks.\n",
              "          quickchartButtonEl.classList.add('colab-df-spinner');\n",
              "          try {\n",
              "            const charts = await google.colab.kernel.invokeFunction(\n",
              "                'suggestCharts', [key], {});\n",
              "          } catch (error) {\n",
              "            console.error('Error during call to suggestCharts:', error);\n",
              "          }\n",
              "          quickchartButtonEl.classList.remove('colab-df-spinner');\n",
              "          quickchartButtonEl.classList.add('colab-df-quickchart-complete');\n",
              "        }\n",
              "        (() => {\n",
              "          let quickchartButtonEl =\n",
              "            document.querySelector('#df-2dd2d835-6135-409c-afa3-8d1207528dcf button');\n",
              "          quickchartButtonEl.style.display =\n",
              "            google.colab.kernel.accessAllowed ? 'block' : 'none';\n",
              "        })();\n",
              "      </script>\n",
              "    </div>\n",
              "\n",
              "    </div>\n",
              "  </div>\n"
            ],
            "application/vnd.google.colaboratory.intrinsic+json": {
              "type": "dataframe",
              "variable_name": "df",
              "summary": "{\n  \"name\": \"df\",\n  \"rows\": 3000,\n  \"fields\": [\n    {\n      \"column\": \"longitude\",\n      \"properties\": {\n        \"dtype\": \"number\",\n        \"std\": 1.9949362939550161,\n        \"min\": -124.18,\n        \"max\": -114.49,\n        \"num_unique_values\": 607,\n        \"samples\": [\n          -121.15,\n          -121.46,\n          -121.02\n        ],\n        \"semantic_type\": \"\",\n        \"description\": \"\"\n      }\n    },\n    {\n      \"column\": \"latitude\",\n      \"properties\": {\n        \"dtype\": \"number\",\n        \"std\": 2.1296695233438325,\n        \"min\": 32.56,\n        \"max\": 41.92,\n        \"num_unique_values\": 587,\n        \"samples\": [\n          40.17,\n          33.69,\n          39.61\n        ],\n        \"semantic_type\": \"\",\n        \"description\": \"\"\n      }\n    },\n    {\n      \"column\": \"housing_median_age\",\n      \"properties\": {\n        \"dtype\": \"number\",\n        \"std\": 12.555395554955755,\n        \"min\": 1.0,\n        \"max\": 52.0,\n        \"num_unique_values\": 52,\n        \"samples\": [\n          14.0,\n          49.0,\n          7.0\n        ],\n        \"semantic_type\": \"\",\n        \"description\": \"\"\n      }\n    },\n    {\n      \"column\": \"total_rooms\",\n      \"properties\": {\n        \"dtype\": \"number\",\n        \"std\": 2155.59333162558,\n        \"min\": 6.0,\n        \"max\": 30450.0,\n        \"num_unique_values\": 2215,\n        \"samples\": [\n          1961.0,\n          1807.0,\n          680.0\n        ],\n        \"semantic_type\": \"\",\n        \"description\": \"\"\n      }\n    },\n    {\n      \"column\": \"total_bedrooms\",\n      \"properties\": {\n        \"dtype\": \"number\",\n        \"std\": 415.6543681363232,\n        \"min\": 2.0,\n        \"max\": 5419.0,\n        \"num_unique_values\": 1055,\n        \"samples\": [\n          532.0,\n          764.0,\n          2162.0\n        ],\n        \"semantic_type\": \"\",\n        \"description\": \"\"\n      }\n    },\n    {\n      \"column\": \"population\",\n      \"properties\": {\n        \"dtype\": \"number\",\n        \"std\": 1030.5430124122422,\n        \"min\": 5.0,\n        \"max\": 11935.0,\n        \"num_unique_values\": 1802,\n        \"samples\": [\n          947.0,\n          1140.0,\n          2019.0\n        ],\n        \"semantic_type\": \"\",\n        \"description\": \"\"\n      }\n    },\n    {\n      \"column\": \"households\",\n      \"properties\": {\n        \"dtype\": \"number\",\n        \"std\": 365.42270980552604,\n        \"min\": 2.0,\n        \"max\": 4930.0,\n        \"num_unique_values\": 1026,\n        \"samples\": [\n          646.0,\n          629.0,\n          504.0\n        ],\n        \"semantic_type\": \"\",\n        \"description\": \"\"\n      }\n    },\n    {\n      \"column\": \"median_income\",\n      \"properties\": {\n        \"dtype\": \"number\",\n        \"std\": 1.854511729691481,\n        \"min\": 0.4999,\n        \"max\": 15.0001,\n        \"num_unique_values\": 2578,\n        \"samples\": [\n          1.725,\n          0.7403,\n          2.6964\n        ],\n        \"semantic_type\": \"\",\n        \"description\": \"\"\n      }\n    },\n    {\n      \"column\": \"median_house_value\",\n      \"properties\": {\n        \"dtype\": \"number\",\n        \"std\": 113119.68746964433,\n        \"min\": 22500.0,\n        \"max\": 500001.0,\n        \"num_unique_values\": 1784,\n        \"samples\": [\n          71900.0,\n          63000.0,\n          115800.0\n        ],\n        \"semantic_type\": \"\",\n        \"description\": \"\"\n      }\n    }\n  ]\n}"
            }
          },
          "metadata": {},
          "execution_count": 4
        }
      ]
    },
    {
      "cell_type": "code",
      "source": [
        "#Demonstrate how to check for missing values in a dataset and replace them with a default value using Pandas"
      ],
      "metadata": {
        "id": "F-_wvGib2h-t"
      },
      "execution_count": null,
      "outputs": []
    },
    {
      "cell_type": "code",
      "source": [
        "df.isnull().sum()"
      ],
      "metadata": {
        "colab": {
          "base_uri": "https://localhost:8080/",
          "height": 366
        },
        "id": "Pb6lbkfv1zGS",
        "outputId": "3b066d4c-45fb-4d40-ab66-2dab3307fd7d"
      },
      "execution_count": 5,
      "outputs": [
        {
          "output_type": "execute_result",
          "data": {
            "text/plain": [
              "longitude             0\n",
              "latitude              0\n",
              "housing_median_age    0\n",
              "total_rooms           0\n",
              "total_bedrooms        0\n",
              "population            0\n",
              "households            0\n",
              "median_income         0\n",
              "median_house_value    0\n",
              "dtype: int64"
            ],
            "text/html": [
              "<div>\n",
              "<style scoped>\n",
              "    .dataframe tbody tr th:only-of-type {\n",
              "        vertical-align: middle;\n",
              "    }\n",
              "\n",
              "    .dataframe tbody tr th {\n",
              "        vertical-align: top;\n",
              "    }\n",
              "\n",
              "    .dataframe thead th {\n",
              "        text-align: right;\n",
              "    }\n",
              "</style>\n",
              "<table border=\"1\" class=\"dataframe\">\n",
              "  <thead>\n",
              "    <tr style=\"text-align: right;\">\n",
              "      <th></th>\n",
              "      <th>0</th>\n",
              "    </tr>\n",
              "  </thead>\n",
              "  <tbody>\n",
              "    <tr>\n",
              "      <th>longitude</th>\n",
              "      <td>0</td>\n",
              "    </tr>\n",
              "    <tr>\n",
              "      <th>latitude</th>\n",
              "      <td>0</td>\n",
              "    </tr>\n",
              "    <tr>\n",
              "      <th>housing_median_age</th>\n",
              "      <td>0</td>\n",
              "    </tr>\n",
              "    <tr>\n",
              "      <th>total_rooms</th>\n",
              "      <td>0</td>\n",
              "    </tr>\n",
              "    <tr>\n",
              "      <th>total_bedrooms</th>\n",
              "      <td>0</td>\n",
              "    </tr>\n",
              "    <tr>\n",
              "      <th>population</th>\n",
              "      <td>0</td>\n",
              "    </tr>\n",
              "    <tr>\n",
              "      <th>households</th>\n",
              "      <td>0</td>\n",
              "    </tr>\n",
              "    <tr>\n",
              "      <th>median_income</th>\n",
              "      <td>0</td>\n",
              "    </tr>\n",
              "    <tr>\n",
              "      <th>median_house_value</th>\n",
              "      <td>0</td>\n",
              "    </tr>\n",
              "  </tbody>\n",
              "</table>\n",
              "</div><br><label><b>dtype:</b> int64</label>"
            ]
          },
          "metadata": {},
          "execution_count": 5
        }
      ]
    },
    {
      "cell_type": "code",
      "source": [
        "df.fillna(0,inplace=True)"
      ],
      "metadata": {
        "id": "dLyUkZ1T2_3V"
      },
      "execution_count": 6,
      "outputs": []
    },
    {
      "cell_type": "code",
      "source": [
        "#Create a DataFrame with a column containing duplicate values. Write a program to drop duplicates and verify the changes."
      ],
      "metadata": {
        "id": "WefEzpje3O_N"
      },
      "execution_count": null,
      "outputs": []
    },
    {
      "cell_type": "code",
      "source": [
        " df.drop_duplicates(inplace=True)"
      ],
      "metadata": {
        "id": "8y645rkE3UT_"
      },
      "execution_count": 7,
      "outputs": []
    },
    {
      "cell_type": "code",
      "source": [
        "# Explain how to standardize column names in a DataFrame (e.g., converting all column names to lowercase)"
      ],
      "metadata": {
        "id": "VIisFPzc3d74"
      },
      "execution_count": null,
      "outputs": []
    },
    {
      "cell_type": "code",
      "source": [
        " df.columns = [col.lower() for col in df.columns]"
      ],
      "metadata": {
        "id": "sQZxoFI23jOY"
      },
      "execution_count": 29,
      "outputs": []
    },
    {
      "cell_type": "code",
      "source": [
        "#Load a dataset and calculate the correlation matrix between numeric columns. Explain what the values represent"
      ],
      "metadata": {
        "id": "6rwMTQxB-pBM"
      },
      "execution_count": null,
      "outputs": []
    },
    {
      "cell_type": "code",
      "source": [
        "corr_matrix = df.corr()\n",
        "print(corr_matrix)"
      ],
      "metadata": {
        "colab": {
          "base_uri": "https://localhost:8080/"
        },
        "id": "ZXfps9LG-pea",
        "outputId": "ddb8608d-5f80-4955-cde4-b117224f196f"
      },
      "execution_count": 8,
      "outputs": [
        {
          "output_type": "stream",
          "name": "stdout",
          "text": [
            "                    longitude  latitude  housing_median_age  total_rooms  \\\n",
            "longitude            1.000000 -0.925017           -0.064203     0.049865   \n",
            "latitude            -0.925017  1.000000           -0.025143    -0.039632   \n",
            "housing_median_age  -0.064203 -0.025143            1.000000    -0.367850   \n",
            "total_rooms          0.049865 -0.039632           -0.367850     1.000000   \n",
            "total_bedrooms       0.070869 -0.068245           -0.323154     0.937749   \n",
            "population           0.111572 -0.117318           -0.299888     0.838867   \n",
            "households           0.051062 -0.068296           -0.305171     0.914116   \n",
            "median_income       -0.018701 -0.072363           -0.144315     0.221249   \n",
            "median_house_value  -0.050662 -0.138428            0.091409     0.160427   \n",
            "\n",
            "                    total_bedrooms  population  households  median_income  \\\n",
            "longitude                 0.070869    0.111572    0.051062      -0.018701   \n",
            "latitude                 -0.068245   -0.117318   -0.068296      -0.072363   \n",
            "housing_median_age       -0.323154   -0.299888   -0.305171      -0.144315   \n",
            "total_rooms               0.937749    0.838867    0.914116       0.221249   \n",
            "total_bedrooms            1.000000    0.856387    0.970758       0.024025   \n",
            "population                0.856387    1.000000    0.895530       0.032361   \n",
            "households                0.970758    0.895530    1.000000       0.048625   \n",
            "median_income             0.024025    0.032361    0.048625       1.000000   \n",
            "median_house_value        0.082279   -0.001192    0.100176       0.672695   \n",
            "\n",
            "                    median_house_value  \n",
            "longitude                    -0.050662  \n",
            "latitude                     -0.138428  \n",
            "housing_median_age            0.091409  \n",
            "total_rooms                   0.160427  \n",
            "total_bedrooms                0.082279  \n",
            "population                   -0.001192  \n",
            "households                    0.100176  \n",
            "median_income                 0.672695  \n",
            "median_house_value            1.000000  \n"
          ]
        }
      ]
    },
    {
      "cell_type": "code",
      "source": [
        "# Using Pandas, generate a bar chart to show the sales of top 5 products based on their revenue"
      ],
      "metadata": {
        "id": "GHL55-X9a_Qw"
      },
      "execution_count": null,
      "outputs": []
    },
    {
      "cell_type": "code",
      "source": [
        " df.nlargest(5, 'population').plot(kind='bar', x='total_rooms', y='population')"
      ],
      "metadata": {
        "colab": {
          "base_uri": "https://localhost:8080/",
          "height": 510
        },
        "id": "rkt1LWPqbF5E",
        "outputId": "00f6b5a5-dd64-4e10-80b9-2f48a5443c14"
      },
      "execution_count": 11,
      "outputs": [
        {
          "output_type": "execute_result",
          "data": {
            "text/plain": [
              "<Axes: xlabel='total_rooms'>"
            ]
          },
          "metadata": {},
          "execution_count": 11
        },
        {
          "output_type": "display_data",
          "data": {
            "text/plain": [
              "<Figure size 640x480 with 1 Axes>"
            ],
            "image/png": "[encoded data removed]"
          },
          "metadata": {}
        }
      ]
    },
    {
      "cell_type": "code",
      "source": [
        "# Write a Pandas program to create a line chart that visualizes monthly sales trends"
      ],
      "metadata": {
        "id": "DoSoP-ofb_NR"
      },
      "execution_count": null,
      "outputs": []
    },
    {
      "cell_type": "code",
      "source": [
        "df.households.plot(kind='line', title='households')"
      ],
      "metadata": {
        "colab": {
          "base_uri": "https://localhost:8080/",
          "height": 469
        },
        "id": "4QMDk5-CcE48",
        "outputId": "e015ed00-448e-4d77-8e00-c4094997a4ae"
      },
      "execution_count": 14,
      "outputs": [
        {
          "output_type": "execute_result",
          "data": {
            "text/plain": [
              "<Axes: title={'center': 'households'}>"
            ]
          },
          "metadata": {},
          "execution_count": 14
        },
        {
          "output_type": "display_data",
          "data": {
            "text/plain": [
              "<Figure size 640x480 with 1 Axes>"
            ],
            "image/png": "[encoded data removed]"
          },
          "metadata": {}
        }
      ]
    },
    {
      "cell_type": "code",
      "source": [
        "#Create a Series of random integers and demonstrate how to find the maximum, minimum,and mean values"
      ],
      "metadata": {
        "id": "VvmP9sIlj4mR"
      },
      "execution_count": null,
      "outputs": []
    },
    {
      "cell_type": "code",
      "source": [
        "series = [1,3,5,7,9]\n",
        "print(max(series), min(series), sum(series) / len(series))"
      ],
      "metadata": {
        "colab": {
          "base_uri": "https://localhost:8080/"
        },
        "id": "vUAubWmFi7nB",
        "outputId": "87b22c56-5259-4b79-e659-03e22f880c2e"
      },
      "execution_count": 19,
      "outputs": [
        {
          "output_type": "stream",
          "name": "stdout",
          "text": [
            "9 1 5.0\n"
          ]
        }
      ]
    },
    {
      "cell_type": "code",
      "source": [
        "#Write a program to check if a value exists in a Pandas Series. If it does, print its index; otherwise, return \"Not Found."
      ],
      "metadata": {
        "id": "FPPazrDUkAZm"
      },
      "execution_count": null,
      "outputs": []
    },
    {
      "cell_type": "code",
      "source": [
        "series = [1,3,5,7,9]\n",
        "value = int(input())\n",
        "if value in series:\n",
        "  print(series.index(value))\n",
        "else:\n",
        "  print(\"Not Found\")\n"
      ],
      "metadata": {
        "colab": {
          "base_uri": "https://localhost:8080/"
        },
        "id": "aeDEnZqJkFp3",
        "outputId": "f8a2ba1c-8aed-4756-94b7-cf463226e1b8"
      },
      "execution_count": 20,
      "outputs": [
        {
          "output_type": "stream",
          "name": "stdout",
          "text": [
            "9\n",
            "4\n"
          ]
        }
      ]
    },
    {
      "cell_type": "code",
      "source": [
        "#Create a 3D NumPy array and demonstrate how to extract a 2D slice from it."
      ],
      "metadata": {
        "id": "5cNUN5Ywk_oJ"
      },
      "execution_count": null,
      "outputs": []
    },
    {
      "cell_type": "code",
      "source": [
        "import numpy as np\n",
        "array_3d = np.array([\n",
        "    [[1, 2, 4],\n",
        "     [3, 4, 5],\n",
        "     [5, 6, 7]]\n",
        "])\n",
        "\n",
        "slice_2d = array_3d[0, :, :]\n",
        "print(slice_2d)"
      ],
      "metadata": {
        "colab": {
          "base_uri": "https://localhost:8080/"
        },
        "id": "AKoZO2UXlSuO",
        "outputId": "a19d5b9e-64f8-4f27-f083-4592e2689093"
      },
      "execution_count": 27,
      "outputs": [
        {
          "output_type": "stream",
          "name": "stdout",
          "text": [
            "[[1 2 4]\n",
            " [3 4 5]\n",
            " [5 6 7]]\n"
          ]
        }
      ]
    },
    {
      "cell_type": "code",
      "source": [
        "#Create two NumPy arrays representing matrices and demonstrate how to perform matrix multiplication."
      ],
      "metadata": {
        "id": "TcVxrdcKnBTW"
      },
      "execution_count": null,
      "outputs": []
    },
    {
      "cell_type": "code",
      "source": [
        "A = np.array([\n",
        "    [1, 2, 3],\n",
        "    [4, 5, 6]\n",
        "])\n",
        "\n",
        "B = np.array([\n",
        "    [7, 8],\n",
        "    [9, 10],\n",
        "    [11, 12]\n",
        "])\n",
        "\n",
        "result = np.dot(A, B)\n",
        "print (result)"
      ],
      "metadata": {
        "colab": {
          "base_uri": "https://localhost:8080/"
        },
        "id": "aI9i_ba0oEMj",
        "outputId": "dcbea085-f5ea-4a7c-8133-000c49bbec66"
      },
      "execution_count": 32,
      "outputs": [
        {
          "output_type": "stream",
          "name": "stdout",
          "text": [
            "[[ 58  64]\n",
            " [139 154]]\n"
          ]
        }
      ]
    },
    {
      "cell_type": "code",
      "source": [
        "#Using NumPy, compute the variance and standard deviation of a dataset."
      ],
      "metadata": {
        "id": "8jaVoOJ8ol-f"
      },
      "execution_count": null,
      "outputs": []
    },
    {
      "cell_type": "code",
      "source": [
        "A = np.array([\n",
        "    [1, 2, 3],\n",
        "    [4, 5, 6]\n",
        "])\n",
        "\n",
        "B = np.array([\n",
        "    [7, 8],\n",
        "    [9, 10],\n",
        "    [11, 12]\n",
        "])\n",
        "print(\"Variance:\", np.var(A))\n",
        "print(\"Standard Deviation:\", np.std(A))"
      ],
      "metadata": {
        "colab": {
          "base_uri": "https://localhost:8080/"
        },
        "id": "TuSRf8yQonwu",
        "outputId": "3bad3b12-43a3-432c-b838-60e0ace0fc6f"
      },
      "execution_count": 34,
      "outputs": [
        {
          "output_type": "stream",
          "name": "stdout",
          "text": [
            "Variance: 2.9166666666666665\n",
            "Standard Deviation: 1.707825127659933\n"
          ]
        }
      ]
    },
    {
      "cell_type": "code",
      "source": [
        "#Write a program to generate random sample data for two groups and perform a t-test to compare their means."
      ],
      "metadata": {
        "id": "VtLR3quBpCEb"
      },
      "execution_count": null,
      "outputs": []
    },
    {
      "cell_type": "code",
      "source": [
        " cf = pd.read_csv(\"/content/sample_data/california_housing_train.csv\")\n",
        "\n",
        "from scipy.stats import ttest_ind\n",
        "t_stat, p_value = ttest_ind(df,cf)\n",
        "print(\"T-statistic:\", t_stat)\n",
        "print(\"P-value:\", p_value)"
      ],
      "metadata": {
        "colab": {
          "base_uri": "https://localhost:8080/"
        },
        "id": "cBJ5Tw1fpCtp",
        "outputId": "54d68df2-771d-4d0e-fcec-6a868c6898d8"
      },
      "execution_count": 38,
      "outputs": [
        {
          "output_type": "stream",
          "name": "stdout",
          "text": [
            "T-statistic: [-0.68279236  0.24029786  1.02735324 -1.02293272 -1.13571713 -1.1954391\n",
            " -1.4961948  -2.02781951 -0.63565561]\n",
            "P-value: [0.49474597 0.81010182 0.30426659 0.30635203 0.25608858 0.23192969\n",
            " 0.13461868 0.0425919  0.52500819]\n"
          ]
        }
      ]
    },
    {
      "cell_type": "code",
      "source": [
        "#Create a contingency table using NumPy and perform a Chi-Square test to determine if two variables are independent"
      ],
      "metadata": {
        "id": "5RF4fxYapVbZ"
      },
      "execution_count": null,
      "outputs": []
    },
    {
      "cell_type": "code",
      "source": [
        "contingency_table = np.array([\n",
        "    [30, 10, 20],  # Male\n",
        "    [20, 20, 30]   # Female\n",
        "])\n",
        "\n",
        "from scipy.stats import chi2_contingency\n",
        "chi2_stat, p_value, dof, expected = chi2_contingency(contingency_table)\n",
        "\n",
        "print(f\"Chi2_stat: {chi2_stat}\")\n",
        "print(f\"p_value: {p_value}\")\n",
        "print(f\"Dof: {dof}\")\n",
        "print(f\"expected:\\n{expected}\")\n",
        "\n",
        "# Interpretation\n",
        "if p_value < 0.05:\n",
        "    print(\"Variables are likely dependent (reject H0)\")\n",
        "else:\n",
        "    print(\"Variables are likely independent (fail to reject H0)\")"
      ],
      "metadata": {
        "colab": {
          "base_uri": "https://localhost:8080/"
        },
        "id": "CjAGPu0NqMtp",
        "outputId": "b3df2f8b-1c38-4f0d-9656-857fe4f90de0"
      },
      "execution_count": 42,
      "outputs": [
        {
          "output_type": "stream",
          "name": "stdout",
          "text": [
            "Chi2_stat: 6.603174603174604\n",
            "p_value: 0.036824669130560574\n",
            "Dof: 2\n",
            "expected:\n",
            "[[23.07692308 13.84615385 23.07692308]\n",
            " [26.92307692 16.15384615 26.92307692]]\n",
            "Variables are likely dependent (reject H0)\n"
          ]
        }
      ]
    },
    {
      "cell_type": "code",
      "source": [
        "#Combine Pandas and NumPy to preprocess a dataset by removing outliers based on the z score method"
      ],
      "metadata": {
        "id": "nkwRRpIHsrpq"
      },
      "execution_count": null,
      "outputs": []
    },
    {
      "cell_type": "code",
      "source": [
        "z_scores = (df - df.mean()) / df.std()\n",
        "df_cleaned = df[(z_scores < 3).all(axis=1)]\n",
        "print(z_scores)\n",
        "print(df_cleaned)"
      ],
      "metadata": {
        "colab": {
          "base_uri": "https://localhost:8080/"
        },
        "id": "Ond3BBlBsvd2",
        "outputId": "3f970354-e312-4a37-99aa-5a190c834439"
      },
      "execution_count": 44,
      "outputs": [
        {
          "output_type": "stream",
          "name": "stdout",
          "text": [
            "      longitude  latitude  housing_median_age  total_rooms  total_bedrooms  \\\n",
            "0     -1.233523  0.814497           -0.146975     0.596319        0.315284   \n",
            "1      0.646236 -0.645823            1.127377    -0.505466       -0.529167   \n",
            "2      0.891858 -0.871210           -0.146975     0.459002       -0.055216   \n",
            "3      0.616160 -0.852428           -0.067328    -1.174887       -1.238892   \n",
            "4     -0.040503  0.326159           -0.784152    -0.630257       -0.687953   \n",
            "...         ...       ...                 ...          ...             ...   \n",
            "2995  -0.135744 -0.570694           -0.465563    -0.533300        0.269573   \n",
            "2996   0.726439 -0.739734           -0.146975     1.232803        1.328145   \n",
            "2997  -0.055541  0.312072           -1.500975    -0.762472       -0.791404   \n",
            "2998   1.237734 -0.720952            0.888436    -1.161434       -1.241297   \n",
            "2999  -0.020452 -0.570694            1.047730    -0.387169       -0.642242   \n",
            "\n",
            "      population  households  median_income  median_house_value  \n",
            "0       0.130224    0.317681       1.510494            1.227494  \n",
            "1      -0.576200   -0.582646      -0.112305           -0.259427  \n",
            "2       0.078795    0.013924       1.070971            0.571551  \n",
            "3      -1.313675   -1.310570       1.255656            1.097543  \n",
            "4      -0.536415   -0.692108      -0.469003           -1.097477  \n",
            "...          ...         ...            ...                 ...  \n",
            "2995   -0.140507    0.320418      -1.417231            0.169323  \n",
            "2996    2.031163    1.494401      -0.224680            0.277173  \n",
            "2997   -0.688762   -0.738630      -0.818421           -1.271629  \n",
            "2998   -1.316586   -1.302360      -0.289279           -0.383189  \n",
            "2999   -0.630540   -0.629167       2.563224            2.600385  \n",
            "\n",
            "[3000 rows x 9 columns]\n",
            "      longitude  latitude  housing_median_age  total_rooms  total_bedrooms  \\\n",
            "0       -122.05     37.37                27.0       3885.0           661.0   \n",
            "1       -118.30     34.26                43.0       1510.0           310.0   \n",
            "2       -117.81     33.78                27.0       3589.0           507.0   \n",
            "3       -118.36     33.82                28.0         67.0            15.0   \n",
            "4       -119.67     36.33                19.0       1241.0           244.0   \n",
            "...         ...       ...                 ...          ...             ...   \n",
            "2995    -119.86     34.42                23.0       1450.0           642.0   \n",
            "2996    -118.14     34.06                27.0       5257.0          1082.0   \n",
            "2997    -119.70     36.30                10.0        956.0           201.0   \n",
            "2998    -117.12     34.10                40.0         96.0            14.0   \n",
            "2999    -119.63     34.42                42.0       1765.0           263.0   \n",
            "\n",
            "      population  households  median_income  median_house_value  \n",
            "0         1537.0       606.0         6.6085            344700.0  \n",
            "1          809.0       277.0         3.5990            176500.0  \n",
            "2         1484.0       495.0         5.7934            270500.0  \n",
            "3           49.0        11.0         6.1359            330000.0  \n",
            "4          850.0       237.0         2.9375             81700.0  \n",
            "...          ...         ...            ...                 ...  \n",
            "2995      1258.0       607.0         1.1790            225000.0  \n",
            "2996      3496.0      1036.0         3.3906            237200.0  \n",
            "2997       693.0       220.0         2.2895             62000.0  \n",
            "2998        46.0        14.0         3.2708            162500.0  \n",
            "2999       753.0       260.0         8.5608            500001.0  \n",
            "\n",
            "[2878 rows x 9 columns]\n"
          ]
        }
      ]
    },
    {
      "cell_type": "code",
      "source": [
        "#Write a program to merge two datasets with overlapping columns and resolve conflicts by appending suffixes to column names."
      ],
      "metadata": {
        "id": "4KSSQ5entMp_"
      },
      "execution_count": null,
      "outputs": []
    },
    {
      "cell_type": "code",
      "source": [
        "merged_df = pd.merge(df, cf, left_index=True, right_index=True, suffixes=('_df', '_cf'))\n",
        "print(merged_df)"
      ],
      "metadata": {
        "colab": {
          "base_uri": "https://localhost:8080/"
        },
        "id": "8dAnIgA-tSHH",
        "outputId": "a74fced1-8b91-4170-cafe-71376ada4730"
      },
      "execution_count": 46,
      "outputs": [
        {
          "output_type": "stream",
          "name": "stdout",
          "text": [
            "      longitude_df  latitude_df  housing_median_age_df  total_rooms_df  \\\n",
            "0          -122.05        37.37                   27.0          3885.0   \n",
            "1          -118.30        34.26                   43.0          1510.0   \n",
            "2          -117.81        33.78                   27.0          3589.0   \n",
            "3          -118.36        33.82                   28.0            67.0   \n",
            "4          -119.67        36.33                   19.0          1241.0   \n",
            "...            ...          ...                    ...             ...   \n",
            "2995       -119.86        34.42                   23.0          1450.0   \n",
            "2996       -118.14        34.06                   27.0          5257.0   \n",
            "2997       -119.70        36.30                   10.0           956.0   \n",
            "2998       -117.12        34.10                   40.0            96.0   \n",
            "2999       -119.63        34.42                   42.0          1765.0   \n",
            "\n",
            "      total_bedrooms_df  population_df  households_df  median_income_df  \\\n",
            "0                 661.0         1537.0          606.0            6.6085   \n",
            "1                 310.0          809.0          277.0            3.5990   \n",
            "2                 507.0         1484.0          495.0            5.7934   \n",
            "3                  15.0           49.0           11.0            6.1359   \n",
            "4                 244.0          850.0          237.0            2.9375   \n",
            "...                 ...            ...            ...               ...   \n",
            "2995              642.0         1258.0          607.0            1.1790   \n",
            "2996             1082.0         3496.0         1036.0            3.3906   \n",
            "2997              201.0          693.0          220.0            2.2895   \n",
            "2998               14.0           46.0           14.0            3.2708   \n",
            "2999              263.0          753.0          260.0            8.5608   \n",
            "\n",
            "      median_house_value_df  longitude_cf  latitude_cf  housing_median_age_cf  \\\n",
            "0                  344700.0       -114.31        34.19                   15.0   \n",
            "1                  176500.0       -114.47        34.40                   19.0   \n",
            "2                  270500.0       -114.56        33.69                   17.0   \n",
            "3                  330000.0       -114.57        33.64                   14.0   \n",
            "4                   81700.0       -114.57        33.57                   20.0   \n",
            "...                     ...           ...          ...                    ...   \n",
            "2995               225000.0       -117.79        34.02                    5.0   \n",
            "2996               237200.0       -117.79        33.88                   17.0   \n",
            "2997                62000.0       -117.79        33.84                    9.0   \n",
            "2998               162500.0       -117.79        33.80                   11.0   \n",
            "2999               500001.0       -117.79        33.77                   23.0   \n",
            "\n",
            "      total_rooms_cf  total_bedrooms_cf  population_cf  households_cf  \\\n",
            "0             5612.0             1283.0         1015.0          472.0   \n",
            "1             7650.0             1901.0         1129.0          463.0   \n",
            "2              720.0              174.0          333.0          117.0   \n",
            "3             1501.0              337.0          515.0          226.0   \n",
            "4             1454.0              326.0          624.0          262.0   \n",
            "...              ...                ...            ...            ...   \n",
            "2995         18690.0             2862.0         9427.0         2777.0   \n",
            "2996          8562.0             1351.0         3822.0         1316.0   \n",
            "2997         10484.0             1603.0         4005.0         1419.0   \n",
            "2998         10535.0             1620.0         4409.0         1622.0   \n",
            "2999          3596.0              451.0         1292.0          458.0   \n",
            "\n",
            "      median_income_cf  median_house_value_cf  \n",
            "0               1.4936                66900.0  \n",
            "1               1.8200                80100.0  \n",
            "2               1.6509                85700.0  \n",
            "3               3.1917                73400.0  \n",
            "4               1.9250                65500.0  \n",
            "...                ...                    ...  \n",
            "2995            6.4266               315600.0  \n",
            "2996            6.0829               252600.0  \n",
            "2997            8.3931               365300.0  \n",
            "2998            6.6700               283200.0  \n",
            "2999            8.5403               451300.0  \n",
            "\n",
            "[3000 rows x 18 columns]\n"
          ]
        }
      ]
    }
  ]
}